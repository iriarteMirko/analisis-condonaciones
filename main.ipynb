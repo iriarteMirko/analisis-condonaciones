{
 "cells": [
  {
   "cell_type": "code",
   "execution_count": 3,
   "metadata": {},
   "outputs": [
    {
     "name": "stdout",
     "output_type": "stream",
     "text": [
      "Reporte de Condonación: Reporte de Condonación 10.10.2024.xlsx\n",
      "Base Final: c:\\Users\\miria\\Documents\\BBVA\\GitHub\\condonaciones\\Base_Final_202410.xlsx\n"
     ]
    }
   ],
   "source": [
    "import pandas as pd\n",
    "import warnings\n",
    "import tkinter as tk\n",
    "import os\n",
    "from tkinter import messagebox\n",
    "from datetime import datetime\n",
    "\n",
    "warnings.filterwarnings(\"ignore\")\n",
    "\n",
    "hoy = datetime.now()\n",
    "año = hoy.year\n",
    "mes = hoy.month\n",
    "\n",
    "mes_nombre = hoy.strftime('%b').upper()[:3] # ENE\n",
    "mes_año = f\"{mes_nombre}{str(año)[2:]}\" # ENE24\n",
    "\n",
    "fecha = f\"{año}{str(mes).zfill(2)}\" # 202401\n",
    "\n",
    "reporte_condonacion = f\"Reporte de Condonación 10.10.2024.xlsx\" # Modificar\n",
    "base_final = f\"Base_Final_{fecha}.xlsx\"\n",
    "base_final_path = os.path.abspath(base_final)\n",
    "\n",
    "print(\"Reporte de Condonación:\", reporte_condonacion)\n",
    "print(\"Base Final:\", base_final_path)"
   ]
  },
  {
   "cell_type": "code",
   "execution_count": 4,
   "metadata": {},
   "outputs": [],
   "source": [
    "def clean_columns(columns_list: list[str]) -> list[str]:\n",
    "    return [column.strip().replace('  ', ' ').replace('  ', ' ').replace('.', '').replace(' ', '_').upper() for column in columns_list]"
   ]
  },
  {
   "cell_type": "code",
   "execution_count": 5,
   "metadata": {},
   "outputs": [],
   "source": [
    "root = tk.Tk()\n",
    "root.attributes(\"-topmost\", True)\n",
    "root.withdraw()\n",
    "\n",
    "result = messagebox.askquestion(\"Confirmación\", \"¿Cargar reporte de condonación?\", icon='warning')\n",
    "if result == 'yes':\n",
    "    df_base = pd.read_excel(reporte_condonacion)"
   ]
  },
  {
   "cell_type": "code",
   "execution_count": 99,
   "metadata": {},
   "outputs": [
    {
     "name": "stdout",
     "output_type": "stream",
     "text": [
      "(55171, 13)\n",
      "(42562, 8)\n"
     ]
    },
    {
     "data": {
      "text/html": [
       "<div>\n",
       "<style scoped>\n",
       "    .dataframe tbody tr th:only-of-type {\n",
       "        vertical-align: middle;\n",
       "    }\n",
       "\n",
       "    .dataframe tbody tr th {\n",
       "        vertical-align: top;\n",
       "    }\n",
       "\n",
       "    .dataframe thead th {\n",
       "        text-align: right;\n",
       "    }\n",
       "</style>\n",
       "<table border=\"1\" class=\"dataframe\">\n",
       "  <thead>\n",
       "    <tr style=\"text-align: right;\">\n",
       "      <th></th>\n",
       "      <th>AGENCIA</th>\n",
       "      <th>CC</th>\n",
       "      <th>CONTRATO</th>\n",
       "      <th>FECHA_INGRESO</th>\n",
       "      <th>FECHA_REVISION</th>\n",
       "      <th>CONFORME</th>\n",
       "      <th>FECHA_EJECUCION</th>\n",
       "      <th>EJECUCION</th>\n",
       "    </tr>\n",
       "  </thead>\n",
       "  <tbody>\n",
       "    <tr>\n",
       "      <th>0</th>\n",
       "      <td>MORNESE</td>\n",
       "      <td>26910745</td>\n",
       "      <td>000000000000755211</td>\n",
       "      <td>04-06-2024 10:33:32</td>\n",
       "      <td>11-06-2024</td>\n",
       "      <td>NO</td>\n",
       "      <td>NaN</td>\n",
       "      <td>NaN</td>\n",
       "    </tr>\n",
       "    <tr>\n",
       "      <th>1</th>\n",
       "      <td>RJ</td>\n",
       "      <td>24204625</td>\n",
       "      <td>001100025000043500</td>\n",
       "      <td>07-09-2023 21:43:55</td>\n",
       "      <td>08-09-2023</td>\n",
       "      <td>SI</td>\n",
       "      <td>08-09-2023</td>\n",
       "      <td>SI</td>\n",
       "    </tr>\n",
       "    <tr>\n",
       "      <th>2</th>\n",
       "      <td>MORNESE</td>\n",
       "      <td>26217657</td>\n",
       "      <td>001100025000080309</td>\n",
       "      <td>24-07-2023 13:37:41</td>\n",
       "      <td>26-07-2023</td>\n",
       "      <td>SI</td>\n",
       "      <td>26-07-2023</td>\n",
       "      <td>SI</td>\n",
       "    </tr>\n",
       "    <tr>\n",
       "      <th>3</th>\n",
       "      <td>CLASA</td>\n",
       "      <td>27608713</td>\n",
       "      <td>001100025000130535</td>\n",
       "      <td>31-03-2023 13:22:46</td>\n",
       "      <td>03-04-2023</td>\n",
       "      <td>SI</td>\n",
       "      <td>03-04-2023</td>\n",
       "      <td>SI</td>\n",
       "    </tr>\n",
       "    <tr>\n",
       "      <th>4</th>\n",
       "      <td>MORNESE</td>\n",
       "      <td>24007029</td>\n",
       "      <td>001100025000163735</td>\n",
       "      <td>02-08-2024 13:19:09</td>\n",
       "      <td>14-08-2024</td>\n",
       "      <td>SI</td>\n",
       "      <td>14-08-2024</td>\n",
       "      <td>SI</td>\n",
       "    </tr>\n",
       "  </tbody>\n",
       "</table>\n",
       "</div>"
      ],
      "text/plain": [
       "   AGENCIA        CC            CONTRATO        FECHA_INGRESO FECHA_REVISION  \\\n",
       "0  MORNESE  26910745  000000000000755211  04-06-2024 10:33:32     11-06-2024   \n",
       "1       RJ  24204625  001100025000043500  07-09-2023 21:43:55     08-09-2023   \n",
       "2  MORNESE  26217657  001100025000080309  24-07-2023 13:37:41     26-07-2023   \n",
       "3    CLASA  27608713  001100025000130535  31-03-2023 13:22:46     03-04-2023   \n",
       "4  MORNESE  24007029  001100025000163735  02-08-2024 13:19:09     14-08-2024   \n",
       "\n",
       "  CONFORME FECHA_EJECUCION EJECUCION  \n",
       "0       NO             NaN       NaN  \n",
       "1       SI      08-09-2023        SI  \n",
       "2       SI      26-07-2023        SI  \n",
       "3       SI      03-04-2023        SI  \n",
       "4       SI      14-08-2024        SI  "
      ]
     },
     "execution_count": 99,
     "metadata": {},
     "output_type": "execute_result"
    }
   ],
   "source": [
    "df_base_test = df_base.copy()\n",
    "print(df_base_test.shape)\n",
    "\n",
    "df_base_test.columns = clean_columns(df_base_test.columns)\n",
    "\n",
    "cols_required = [\n",
    "    'SELECCIONAR_LA_AGENCIA_DE_COBRANZA_/_UNIDAD_CORRESPONDIENTE', \n",
    "    'CC', \n",
    "    'N°_DEL_CONTRATO_DE_CLIENTE_/_CÓDIGO_UGA', \n",
    "    'MARCA_TEMPORAL', \n",
    "    'FECHA_DE_REVISIÓN', \n",
    "    '¿REVISIÓN_CONFORME?', \n",
    "    'FECHA_DE_EJECUCIÓN', \n",
    "    'EJECUCIÓN'\n",
    "    ]\n",
    "\n",
    "df_base_test = df_base_test[cols_required]\n",
    "df_base_test.rename(columns={\n",
    "    'MARCA_TEMPORAL': 'FECHA_INGRESO', \n",
    "    'SELECCIONAR_LA_AGENCIA_DE_COBRANZA_/_UNIDAD_CORRESPONDIENTE': 'AGENCIA', \n",
    "    'N°_DEL_CONTRATO_DE_CLIENTE_/_CÓDIGO_UGA': 'CONTRATO', \n",
    "    'FECHA_DE_EJECUCIÓN': 'FECHA_EJECUCION', \n",
    "    '¿REVISIÓN_CONFORME?': 'CONFORME', \n",
    "    'FECHA_DE_REVISIÓN': 'FECHA_REVISION', \n",
    "    'EJECUCIÓN': 'EJECUCION'\n",
    "    }, inplace=True)\n",
    "\n",
    "df_base_test['AGENCIA'] = df_base_test['AGENCIA'].str.upper()\n",
    "df_base_test['EJECUCION'] = df_base_test['EJECUCION'].str.upper()\n",
    "df_base_test['CONFORME'] = df_base_test['CONFORME'].str.upper()\n",
    "df_base_test['CC'] = df_base_test['CC'].astype('Int64').astype(str).str.zfill(8)\n",
    "df_base_test['CONTRATO'] = df_base_test['CONTRATO'].astype('Int64').astype(str).str.zfill(18)\n",
    "\n",
    "df_base_test['FECHA_INGRESO'] = pd.to_datetime(df_base_test['FECHA_INGRESO'], errors='coerce')\n",
    "df_base_test['FECHA_REVISION'] = pd.to_datetime(df_base_test['FECHA_REVISION'], errors='coerce')\n",
    "df_base_test['FECHA_EJECUCION'] = pd.to_datetime(df_base_test['FECHA_EJECUCION'], errors='coerce')\n",
    "\n",
    "df_base_test['FECHA_INGRESO'] = df_base_test['FECHA_INGRESO'].dt.strftime('%d-%m-%Y %H:%M:%S')\n",
    "df_base_test['FECHA_REVISION'] = df_base_test['FECHA_REVISION'].dt.strftime('%d-%m-%Y')\n",
    "df_base_test['FECHA_EJECUCION'] = df_base_test['FECHA_EJECUCION'].dt.strftime('%d-%m-%Y')\n",
    "\n",
    "df_base_test = df_base_test[df_base_test['AGENCIA'].isin(['RJ ABOGADOS', 'CLASA', 'MORNESE'])]\n",
    "df_base_test['AGENCIA'] = df_base_test['AGENCIA'].replace('RJ ABOGADOS', 'RJ')\n",
    "\n",
    "df_base_test = df_base_test[df_base_test['FECHA_REVISION'].notnull()]\n",
    "df_base_test = df_base_test[~((df_base_test['EJECUCION'] == 'SI') & (df_base_test['FECHA_EJECUCION'].isnull()))]\n",
    "df_base_test = df_base_test[~((df_base_test['EJECUCION'].isnull()) & (df_base_test['FECHA_EJECUCION'].notnull()))]\n",
    "df_base_test = df_base_test[~((df_base_test['EJECUCION'].notnull()) & (df_base_test['FECHA_EJECUCION'].isnull()))]\n",
    "df_base_test = df_base_test[~((df_base_test['CONFORME'] == 'NO') & (df_base_test['EJECUCION'] == 'SI'))]\n",
    "df_base_test = df_base_test[~((df_base_test['CONFORME'] == 'SI') & (df_base_test['EJECUCION'] == 'NO'))]\n",
    "df_base_test = df_base_test[~((df_base_test['CONFORME'] == 'SI') & (df_base_test['EJECUCION'].isnull()))]\n",
    "\n",
    "df_base_test.sort_values(by=['CONTRATO', 'FECHA_INGRESO'], ascending=True, inplace=True)\n",
    "df_base_test.reset_index(drop=True, inplace=True)\n",
    "\n",
    "print(df_base_test.shape)\n",
    "df_base_test.head(5)"
   ]
  },
  {
   "cell_type": "code",
   "execution_count": 102,
   "metadata": {},
   "outputs": [
    {
     "data": {
      "text/plain": [
       "CONFORME  EJECUCION\n",
       "SI        SI           40124\n",
       "NO        NaN           2438\n",
       "Name: count, dtype: int64"
      ]
     },
     "execution_count": 102,
     "metadata": {},
     "output_type": "execute_result"
    }
   ],
   "source": [
    "df_base_test[['CONFORME', 'EJECUCION']].value_counts(dropna=False)\n"
   ]
  }
 ],
 "metadata": {
  "kernelspec": {
   "display_name": "Python 3",
   "language": "python",
   "name": "python3"
  },
  "language_info": {
   "codemirror_mode": {
    "name": "ipython",
    "version": 3
   },
   "file_extension": ".py",
   "mimetype": "text/x-python",
   "name": "python",
   "nbconvert_exporter": "python",
   "pygments_lexer": "ipython3",
   "version": "3.11.5"
  }
 },
 "nbformat": 4,
 "nbformat_minor": 2
}
